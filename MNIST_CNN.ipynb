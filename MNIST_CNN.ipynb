{
 "cells": [
  {
   "cell_type": "code",
   "execution_count": 0,
   "metadata": {
    "id": "ecmpqtwiKgFF",
    "colab_type": "code",
    "colab": {}
   },
   "outputs": [],
   "source": [
    "import tensorflow as tf\n",
    "mnist = tf.keras.datasets.mnist\n"
   ]
  },
  {
   "cell_type": "code",
   "execution_count": 0,
   "metadata": {
    "id": "B8Xfi5p_RQmG",
    "colab_type": "code",
    "colab": {}
   },
   "outputs": [],
   "source": [
    "import sys\n",
    "sys.path.append('drive/Project')"
   ]
  },
  {
   "cell_type": "code",
   "execution_count": 0,
   "metadata": {
    "id": "xGf-dQ_QXbDL",
    "colab_type": "code",
    "outputId": "ece50ef0-a3de-4675-aaf5-302fcaf2baa4",
    "colab": {
     "base_uri": "https://localhost:8080/",
     "height": 90.0
    }
   },
   "outputs": [
    {
     "name": "stdout",
     "output_type": "stream",
     "text": [
      "X:shape 60000\n",
      "X:reshape 60000\n",
      "(60000,)\n",
      "[5 0 4 1 9]\n"
     ]
    }
   ],
   "source": [
    "from keras.utils import np_utils\n",
    "(x_train, y_train),(x_test, y_test) = mnist.load_data()\n",
    "\n",
    "print(\"X:shape\", x_train.shape[0])\n",
    "x_train = x_train.reshape(x_train.shape[0],28, 28,1).astype('float32')\n",
    "x_test = x_test.reshape(x_test.shape[0],28,28,1).astype('float32')\n",
    "print(\"X:reshape\", x_train.shape[0])\n",
    "\n",
    "#normalize inputs 0-255, 0 -1\n",
    "x_train = x_train.astype('float32')\n",
    "x_train= x_train / 255.0\n",
    "x_test = x_test.astype('float32')\n",
    "x_test= x_test / 255.0\n",
    "\n",
    "#y_train = np_utils.to_categorical(y_train)\n",
    "print(y_train.shape)\n",
    "print(y_train[:5])\n"
   ]
  },
  {
   "cell_type": "code",
   "execution_count": 0,
   "metadata": {
    "id": "RwUwzdTou3xn",
    "colab_type": "code",
    "outputId": "51eefca6-8b54-4d1f-c882-613813c22637",
    "colab": {
     "base_uri": "https://localhost:8080/",
     "height": 417.0
    }
   },
   "outputs": [
    {
     "name": "stdout",
     "output_type": "stream",
     "text": [
      "Epoch 1/10\n",
      "60000/60000 [==============================] - 38s 631us/step - loss: 0.2134 - acc: 0.9357\n",
      "Epoch 2/10\n",
      "60000/60000 [==============================] - 32s 540us/step - loss: 0.0666 - acc: 0.9799\n",
      "Epoch 3/10\n",
      "60000/60000 [==============================] - 33s 556us/step - loss: 0.0498 - acc: 0.9849\n",
      "Epoch 4/10\n",
      "60000/60000 [==============================] - 33s 554us/step - loss: 0.0425 - acc: 0.9871\n",
      "Epoch 5/10\n",
      "60000/60000 [==============================] - 34s 560us/step - loss: 0.0399 - acc: 0.9878\n",
      "Epoch 6/10\n",
      "60000/60000 [==============================] - 35s 576us/step - loss: 0.0367 - acc: 0.9885\n",
      "Epoch 7/10\n",
      "60000/60000 [==============================] - 34s 570us/step - loss: 0.0327 - acc: 0.9902\n",
      "Epoch 8/10\n",
      "60000/60000 [==============================] - 34s 567us/step - loss: 0.0277 - acc: 0.9917\n",
      "Epoch 9/10\n",
      "60000/60000 [==============================] - 34s 574us/step - loss: 0.0273 - acc: 0.9917\n",
      "Epoch 10/10\n",
      "60000/60000 [==============================] - 34s 563us/step - loss: 0.0239 - acc: 0.9927\n",
      "10000/10000 [==============================] - 4s 353us/step\n"
     ]
    },
    {
     "data": {
      "text/plain": [
       "[0.016725530441601588, 0.9955]"
      ]
     },
     "execution_count": 56,
     "metadata": {
      "tags": []
     },
     "output_type": "execute_result"
    }
   ],
   "source": [
    "from keras import Sequential\n",
    "from keras.layers.convolutional import Conv2D\n",
    "from keras.layers import Dense,Dropout,BatchNormalization\n",
    "model = Sequential()\n",
    "\n",
    "model.add(Conv2D(32,kernel_size=3,activation='relu',input_shape=(28,28,1)))\n",
    "model.add(BatchNormalization())\n",
    "model.add(Conv2D(32,kernel_size=3,activation='relu'))\n",
    "model.add(BatchNormalization())\n",
    "model.add(Conv2D(32,kernel_size=5,strides=2,padding='same',activation='relu'))\n",
    "model.add(BatchNormalization())\n",
    "model.add(Dropout(0.4))\n",
    "model.add(Conv2D(64,kernel_size=3,activation='relu'))\n",
    "model.add(BatchNormalization())\n",
    "model.add(Conv2D(64,kernel_size=3,activation='relu'))\n",
    "model.add(BatchNormalization())\n",
    "model.add(Conv2D(64,kernel_size=5,strides=2,padding='same',activation='relu'))\n",
    "model.add(BatchNormalization())\n",
    "model.add(Dropout(0.4))\n",
    "\n",
    "model.add(Flatten())\n",
    "model.add(Dense(128, activation='relu'))\n",
    "model.add(BatchNormalization())\n",
    "model.add(Dropout(0.4))\n",
    "model.add(Dense(10, activation='softmax'))\n",
    "\n",
    "model.compile(optimizer=\"adam\", loss=\"sparse_categorical_crossentropy\", metrics=[\"accuracy\"])\n",
    "\n",
    "model.fit(x_train, y_train, epochs=10,batch_size=64)\n",
    "model.evaluate(x_test, y_test)"
   ]
  },
  {
   "cell_type": "code",
   "execution_count": 0,
   "metadata": {
    "id": "5qLVDsntMaSW",
    "colab_type": "code",
    "colab": {}
   },
   "outputs": [],
   "source": [
    "model = tf.keras.models.Sequential([\n",
    "  #tf.keras.layers.Conv2D(64, (7,7), input_shape=(1, 28, 28), activation=tf.nn.leaky_relu,padding='same'),\n",
    "  #tf.keras.layers.MaxPooling2D(pool_size=(5,5),strides=(1,1),padding='same'),\n",
    "  #tf.keras.layers.Conv2D(64, (7,7), input_shape=(1, 28, 28), activation=tf.nn.leaky_relu,padding='same'),\n",
    "  #tf.keras.layers.MaxPooling2D(pool_size=(4, 4),strides=(1,1),padding='same'),\n",
    "  #tf.keras.layers.Conv2D(32, (5,5), activation=tf.nn.leaky_relu,padding='same'),\n",
    "  #tf.keras.layers.MaxPooling2D(pool_size=(3, 3),strides=(1,1),padding='same'),\n",
    "  tf.keras.layers.Conv2D(48, kernel_size=5,input_shape=(1, 28, 28), activation=tf.nn.relu,padding='same'),\n",
    "  tf.keras.layers.MaxPooling2D(pool_size=(2,2),strides=(1,1),padding='same'),\n",
    "  tf.keras.layers.Conv2D(96, kernel_size=5, activation=tf.nn.relu,padding='same'),\n",
    "  tf.keras.layers.MaxPooling2D(pool_size=(2,2),strides=(1,1),padding='same'), \n",
    "  tf.keras.layers.Dropout(0.4),\n",
    "  tf.keras.layers.Flatten(),\n",
    " #tf.keras.layers.Dense(2048, activation=tf.nn.leaky_relu),\n",
    " #tf.keras.layers.Dense(1024, activation=tf.nn.relu),\n",
    " #tf.keras.layers.Dense(512, activation=tf.nn.relu),\n",
    "  tf.keras.layers.Dense(1024, activation=tf.nn.relu),\n",
    " #tf.keras.layers.Dense(128, activation=tf.nn.relu),\n",
    " # tf.keras.layers.Dense(50, activation=tf.nn.relu),\n",
    "  #tf.keras.layers.Dense(25, activation=tf.nn.relu),\n",
    "  tf.keras.layers.Dense(10, activation=tf.nn.softmax)\n",
    "])\n",
    "model.compile(optimizer='adam',\n",
    "              loss='sparse_categorical_crossentropy',\n",
    "              metrics=['accuracy'])\n",
    "\n",
    "model.fit(x_train, y_train, epochs=10,batch_size=64)\n",
    "model.evaluate(x_test, y_test)"
   ]
  },
  {
   "cell_type": "code",
   "execution_count": 0,
   "metadata": {
    "id": "aCa6rC-pPGLE",
    "colab_type": "code",
    "outputId": "fa68aa7c-f22e-4506-c5ab-9ea8ed907642",
    "colab": {
     "base_uri": "https://localhost:8080/",
     "height": 72.0
    }
   },
   "outputs": [
    {
     "name": "stdout",
     "output_type": "stream",
     "text": [
      "   ImageId  Label\n",
      "0        1      7\n",
      "1        2      2\n"
     ]
    }
   ],
   "source": [
    "import pandas as pd\n",
    "prediction = pd.DataFrame()\n",
    "imageid = []\n",
    "for i in range(len(x_test)):\n",
    "    i = i + 1\n",
    "    imageid.append(i)\n",
    "prediction[\"ImageId\"] = imageid \n",
    "prediction[\"Label\"] = model.predict_classes(x_test, verbose=0)\n",
    "print(prediction[:2])\n",
    "prediction.to_csv(\"prediction.csv\", index=False)"
   ]
  },
  {
   "cell_type": "code",
   "execution_count": 0,
   "metadata": {
    "id": "ZmIsZApzRw8q",
    "colab_type": "code",
    "outputId": "1feb01e4-5221-4146-97fc-74cceb9091d8",
    "colab": {
     "base_uri": "https://localhost:8080/",
     "height": 35.0
    }
   },
   "outputs": [
    {
     "name": "stdout",
     "output_type": "stream",
     "text": [
      "/content\n"
     ]
    }
   ],
   "source": [
    "import os\n",
    "print( os.getcwd() )\n"
   ]
  },
  {
   "cell_type": "code",
   "execution_count": 0,
   "metadata": {
    "id": "HGSUzCTeSiar",
    "colab_type": "code",
    "colab": {}
   },
   "outputs": [],
   "source": [
    "from google.colab import files\n",
    "files.download( \"prediction.csv\" ) "
   ]
  }
 ],
 "metadata": {
  "colab": {
   "name": "Wine_CNN.ipynb",
   "version": "0.3.2",
   "provenance": [],
   "collapsed_sections": []
  },
  "kernelspec": {
   "name": "python3",
   "display_name": "Python 3"
  },
  "accelerator": "GPU"
 },
 "nbformat": 4,
 "nbformat_minor": 0
}
